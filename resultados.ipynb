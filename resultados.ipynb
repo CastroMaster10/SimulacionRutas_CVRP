{
 "cells": [
  {
   "cell_type": "code",
   "execution_count": 1,
   "metadata": {},
   "outputs": [],
   "source": [
    "import pandas as pd"
   ]
  },
  {
   "cell_type": "code",
   "execution_count": 25,
   "metadata": {},
   "outputs": [],
   "source": [
    "volumenes1 = pd.read_csv(\"Simulaciones/100 clientes/simulacion_clientes1.csv\")[\"Volumen por pedidos (m^3)\"].tolist()\n",
    "volumenes2 = pd.read_csv(\"Simulaciones/100 clientes/simulacion_clientes2.csv\")[\"Volumen por pedidos (m^3)\"].tolist()\n",
    "volumenes3 = pd.read_csv(\"Simulaciones/100 clientes/simulacion_clientes3.csv\")[\"Volumen por pedidos (m^3)\"].tolist()\n",
    "volumenes4 = pd.read_csv(\"Simulaciones/100 clientes/simulacion_clientes4.csv\")[\"Volumen por pedidos (m^3)\"].tolist()\n",
    "volumenes5 = pd.read_csv(\"Simulaciones/100 clientes/simulacion_clientes5.csv\")[\"Volumen por pedidos (m^3)\"].tolist()\n",
    "volumenes6 = pd.read_csv(\"Simulaciones/100 clientes/simulacion_clientes6.csv\")[\"Volumen por pedidos (m^3)\"].tolist()\n",
    "volumenes7 = pd.read_csv(\"Simulaciones/100 clientes/simulacion_clientes7.csv\")[\"Volumen por pedidos (m^3)\"].tolist()\n",
    "volumenes8 = pd.read_csv(\"Simulaciones/100 clientes/simulacion_clientes8.csv\")[\"Volumen por pedidos (m^3)\"].tolist()\n",
    "volumenes9 = pd.read_csv(\"Simulaciones/100 clientes/simulacion_clientes9.csv\")[\"Volumen por pedidos (m^3)\"].tolist()\n",
    "volumenes10 = pd.read_csv(\"Simulaciones/100 clientes/simulacion_clientes10.csv\")[\"Volumen por pedidos (m^3)\"].tolist()"
   ]
  },
  {
   "cell_type": "code",
   "execution_count": 27,
   "metadata": {},
   "outputs": [
    {
     "data": {
      "text/plain": [
       "-0.09374820643750005"
      ]
     },
     "execution_count": 27,
     "metadata": {},
     "output_type": "execute_result"
    }
   ],
   "source": [
    "noutilizado = ((1 - sum(volumenes1) / (8 * 2)) + (1 - sum(volumenes2) / (8 * 2)) + (1 - sum(volumenes3) / (8 * 2)) + (1 - sum(volumenes4) / (8 * 2)) +(1 - sum(volumenes5) / (8 * 2)) + (1 - sum(volumenes6) / (8 * 2)) + (1 - sum(volumenes7) / (8 * 2)) + (1 - sum(volumenes8) / (8 * 2)) + (1 - sum(volumenes9) / (8 * 2)) + (1 - sum(volumenes10) / (8 * 2))) / 10\n",
    "\n",
    "noutilizado"
   ]
  },
  {
   "cell_type": "code",
   "execution_count": null,
   "metadata": {},
   "outputs": [],
   "source": []
  }
 ],
 "metadata": {
  "kernelspec": {
   "display_name": "base",
   "language": "python",
   "name": "python3"
  },
  "language_info": {
   "codemirror_mode": {
    "name": "ipython",
    "version": 3
   },
   "file_extension": ".py",
   "mimetype": "text/x-python",
   "name": "python",
   "nbconvert_exporter": "python",
   "pygments_lexer": "ipython3",
   "version": "3.9.12"
  }
 },
 "nbformat": 4,
 "nbformat_minor": 2
}
